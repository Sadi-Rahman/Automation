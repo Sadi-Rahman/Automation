{
 "cells": [
  {
   "cell_type": "code",
   "execution_count": 6,
   "metadata": {},
   "outputs": [],
   "source": [
    "from selenium import webdriver\n",
    "import csv"
   ]
  },
  {
   "cell_type": "code",
   "execution_count": 11,
   "metadata": {},
   "outputs": [
    {
     "name": "stderr",
     "output_type": "stream",
     "text": [
      "C:\\Users\\User\\AppData\\Local\\Temp\\ipykernel_17076\\3099258183.py:5: DeprecationWarning: executable_path has been deprecated, please pass in a Service object\n",
      "  driver = webdriver.Firefox(executable_path=gecko_path)\n"
     ]
    }
   ],
   "source": [
    "# Specify the path to the geckodriver executable\n",
    "gecko_path = \"C:/Users/User/Desktop/CSPA/gecko/geckodriver.exe\"\n",
    "\n",
    "# Create a new Firefox browser instance\n",
    "driver = webdriver.Firefox(executable_path=gecko_path)"
   ]
  },
  {
   "cell_type": "code",
   "execution_count": 12,
   "metadata": {},
   "outputs": [],
   "source": [
    "# Open the URL to be tested\n",
    "url = \"https://www.gsmarena.com.bd/walton-orbit-y20/\"\n",
    "driver.get(url)\n"
   ]
  },
  {
   "cell_type": "code",
   "execution_count": 13,
   "metadata": {},
   "outputs": [],
   "source": [
    "csv_file_path = \"C:/Users/User/Desktop/CSPA/selenium/result.csv\"\n",
    "\n",
    "# Create a CSV file to store the results\n",
    "with open(csv_file_path, mode='w', newline='') as file:\n",
    "    writer = csv.writer(file)\n",
    "    writer.writerow(['Page URL', 'Load Time (ms)'])\n",
    "\n",
    "    # Loop through 100 iterations\n",
    "    for i in range(10):\n",
    "        # Get the current URL\n",
    "        current_url = driver.current_url\n",
    "        \n",
    "        # Measure the page load time\n",
    "        load_time = driver.execute_script(\"return (window.performance.timing.loadEventEnd - window.performance.timing.navigationStart);\")\n",
    "\n",
    "        # Write the results to the CSV file\n",
    "        writer.writerow([current_url, load_time])\n",
    "\n",
    "        # Load the next URL to be tested\n",
    "        driver.get(url)"
   ]
  },
  {
   "cell_type": "code",
   "execution_count": 10,
   "metadata": {},
   "outputs": [],
   "source": [
    "# Close the browser\n",
    "driver.quit()"
   ]
  },
  {
   "cell_type": "code",
   "execution_count": null,
   "metadata": {},
   "outputs": [],
   "source": []
  }
 ],
 "metadata": {
  "kernelspec": {
   "display_name": "Python 3",
   "language": "python",
   "name": "python3"
  },
  "language_info": {
   "codemirror_mode": {
    "name": "ipython",
    "version": 3
   },
   "file_extension": ".py",
   "mimetype": "text/x-python",
   "name": "python",
   "nbconvert_exporter": "python",
   "pygments_lexer": "ipython3",
   "version": "3.10.10"
  },
  "orig_nbformat": 4
 },
 "nbformat": 4,
 "nbformat_minor": 2
}
