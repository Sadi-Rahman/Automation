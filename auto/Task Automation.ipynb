{
 "cells": [
  {
   "cell_type": "code",
   "execution_count": 1,
   "metadata": {},
   "outputs": [
    {
     "name": "stderr",
     "output_type": "stream",
     "text": [
      "C:\\Users\\User\\AppData\\Local\\Temp\\ipykernel_20416\\2143949040.py:8: DeprecationWarning: executable_path has been deprecated, please pass in a Service object\n",
      "  driver = webdriver.Firefox(executable_path=gecko_path)\n"
     ]
    }
   ],
   "source": [
    "from selenium import webdriver\n",
    "from selenium.webdriver.common.by import By\n",
    "from selenium.webdriver.common.keys import Keys\n",
    "import time\n",
    "import csv\n",
    "\n",
    "gecko_path = \"C:/Users/User/Desktop/CSPA/gecko/geckodriver.exe\"\n",
    "driver = webdriver.Firefox(executable_path=gecko_path)\n",
    "\n",
    "url = \"https://www.tutorialspoint.com/market/login.asp\" \n",
    "driver.get(url)"
   ]
  },
  {
   "cell_type": "code",
   "execution_count": null,
   "metadata": {},
   "outputs": [],
   "source": [
    "csv_path= 'C:/Users/User/Desktop/CSPA/Automation/auto/result.csv'\n",
    "\n",
    "with open(csv_path, mode='w', newline='') as file:\n",
    "    writer = csv.writer(file)\n",
    "    writer.writerow(['Iteration', 'Time (s)'])\n",
    "   \n",
    "\n",
    "    for i in range(2):\n",
    "\n",
    "            start_time = time.time()\n",
    "            # For Login\n",
    "            username_input = driver.find_element(By.XPATH,'//*[@id=\"user_email\"]')\n",
    "            password_input = driver.find_element(By.XPATH,'//*[@id=\"user_password\"]')\n",
    "            login_button = driver.find_element(By.XPATH,'//*[@id=\"user_login\"]/i')\n",
    "\n",
    "            username_input.send_keys(\"case.test.1309@gmail.com\")\n",
    "            password_input.send_keys(\"testandcase\")\n",
    "            login_button.click()\n",
    "            time.sleep(5)\n",
    "\n",
    "            # Drop Down & Logout\n",
    "            drop_button = driver.find_element(By.XPATH,'//*[@id=\"profileMenu\"]/i')\n",
    "            logout_button = driver.find_element(By.XPATH,'//*[@id=\"profile-menu\"]/li[6]/b/a')\n",
    "\n",
    "            drop_button.click()\n",
    "            time.sleep(2)\n",
    "            logout_button.click()\n",
    "            time.sleep(2)\n",
    "\n",
    "            # Again Login\n",
    "            log_button = driver.find_element(By.XPATH,'/html/body/header/nav/div/div[2]/a/i')\n",
    "            log_button.click()\n",
    "            time.sleep(1)\n",
    "            \n",
    "            end_time = time.time()\n",
    "            time_taken = round(end_time - start_time, 2)\n",
    "            writer.writerow([i+1, time_taken])\n",
    "\n",
    "\n"
   ]
  },
  {
   "cell_type": "code",
   "execution_count": 3,
   "metadata": {},
   "outputs": [],
   "source": [
    "driver.quit()"
   ]
  },
  {
   "cell_type": "code",
   "execution_count": null,
   "metadata": {},
   "outputs": [],
   "source": []
  },
  {
   "cell_type": "code",
   "execution_count": null,
   "metadata": {},
   "outputs": [],
   "source": [
    "gecko_path = \"C:/Users/User/Desktop/CSPA/gecko/geckodriver.exe\"\n",
    "driver = webdriver.Firefox(executable_path=gecko_path)\n",
    "\n",
    "url = \"https://www.tutorialspoint.com/market/login.asp\" \n",
    "driver.get(url)"
   ]
  }
 ],
 "metadata": {
  "kernelspec": {
   "display_name": "Python 3",
   "language": "python",
   "name": "python3"
  },
  "language_info": {
   "codemirror_mode": {
    "name": "ipython",
    "version": 3
   },
   "file_extension": ".py",
   "mimetype": "text/x-python",
   "name": "python",
   "nbconvert_exporter": "python",
   "pygments_lexer": "ipython3",
   "version": "3.10.10"
  },
  "orig_nbformat": 4
 },
 "nbformat": 4,
 "nbformat_minor": 2
}
