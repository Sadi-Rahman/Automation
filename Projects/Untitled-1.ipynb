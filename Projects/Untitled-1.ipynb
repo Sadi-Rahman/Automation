{
 "cells": [
  {
   "cell_type": "code",
   "execution_count": 16,
   "metadata": {},
   "outputs": [],
   "source": [
    "from selenium import webdriver\n",
    "from selenium.webdriver.common.by import By\n",
    "from selenium.webdriver.common.keys import Keys\n",
    "import time\n",
    "import csv"
   ]
  },
  {
   "cell_type": "code",
   "execution_count": 38,
   "metadata": {},
   "outputs": [
    {
     "name": "stderr",
     "output_type": "stream",
     "text": [
      "C:\\Users\\User\\AppData\\Local\\Temp\\ipykernel_20316\\3563965756.py:2: DeprecationWarning: executable_path has been deprecated, please pass in a Service object\n",
      "  driver = webdriver.Firefox(executable_path=gecko_path)\n"
     ]
    }
   ],
   "source": [
    "gecko_path = \"C:/Users/User/Desktop/CSPA/gecko/geckodriver.exe\"\n",
    "driver = webdriver.Firefox(executable_path=gecko_path)\n",
    "\n",
    "url = \"https://www.tutorialspoint.com/market/login.asp\" \n",
    "driver.get(url)"
   ]
  },
  {
   "cell_type": "code",
   "execution_count": 39,
   "metadata": {},
   "outputs": [],
   "source": [
    "username_input = driver.find_element(By.XPATH,'//*[@id=\"user_email\"]')\n",
    "password_input = driver.find_element(By.XPATH,'//*[@id=\"user_password\"]')\n",
    "login_button = driver.find_element(By.XPATH,'//*[@id=\"user_login\"]/i')\n",
    "\n",
    "\n",
    "\n"
   ]
  },
  {
   "cell_type": "code",
   "execution_count": 34,
   "metadata": {},
   "outputs": [],
   "source": [
    "username_input.send_keys(\"case.test.1309@gmail.com\")\n",
    "password_input.send_keys(\"testandcase\")\n",
    "login_button.click()\n",
    "time.sleep(1)\n",
    "\n",
    "\n"
   ]
  },
  {
   "cell_type": "code",
   "execution_count": 40,
   "metadata": {},
   "outputs": [],
   "source": [
    "drop_button = driver.find_element(By.XPATH,'//*[@id=\"profileMenu\"]/i')\n",
    "logout_button = driver.find_element(By.XPATH,'//*[@id=\"profile-menu\"]/li[6]/b/a')\n",
    "drop_button.click()\n",
    "time.sleep(1)\n",
    "logout_button.click()\n",
    "time.sleep(5)\n"
   ]
  },
  {
   "cell_type": "code",
   "execution_count": 36,
   "metadata": {},
   "outputs": [],
   "source": [
    "log_button = driver.find_element(By.XPATH,'/html/body/header/nav/div/div[2]/a/i')\n",
    "log_button.click()"
   ]
  },
  {
   "cell_type": "code",
   "execution_count": null,
   "metadata": {},
   "outputs": [],
   "source": []
  },
  {
   "cell_type": "code",
   "execution_count": 37,
   "metadata": {},
   "outputs": [],
   "source": [
    "driver.quit()"
   ]
  },
  {
   "attachments": {},
   "cell_type": "markdown",
   "metadata": {},
   "source": []
  }
 ],
 "metadata": {
  "kernelspec": {
   "display_name": "Python 3",
   "language": "python",
   "name": "python3"
  },
  "language_info": {
   "codemirror_mode": {
    "name": "ipython",
    "version": 3
   },
   "file_extension": ".py",
   "mimetype": "text/x-python",
   "name": "python",
   "nbconvert_exporter": "python",
   "pygments_lexer": "ipython3",
   "version": "3.10.10"
  },
  "orig_nbformat": 4,
  "vscode": {
   "interpreter": {
    "hash": "afb734500600fd355917ca529030176ea0ca205570884b88f2f6f7d791fd3fbe"
   }
  }
 },
 "nbformat": 4,
 "nbformat_minor": 2
}
