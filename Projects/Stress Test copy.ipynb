{
 "cells": [
  {
   "cell_type": "code",
   "execution_count": 26,
   "metadata": {},
   "outputs": [],
   "source": [
    "from selenium import webdriver\n",
    "import csv\n",
    "import time "
   ]
  },
  {
   "cell_type": "code",
   "execution_count": 27,
   "metadata": {},
   "outputs": [
    {
     "name": "stderr",
     "output_type": "stream",
     "text": [
      "C:\\Users\\User\\AppData\\Local\\Temp\\ipykernel_6248\\1735163756.py:3: DeprecationWarning: executable_path has been deprecated, please pass in a Service object\n",
      "  driver = webdriver.Firefox(executable_path=gecko_path)\n"
     ]
    }
   ],
   "source": [
    "gecko_path = \"/CSPA/Automation/gecko/geckodriver.exe\"\n",
    "# Create a new Firefox browser instance\n",
    "driver = webdriver.Firefox(executable_path=gecko_path)"
   ]
  },
  {
   "cell_type": "code",
   "execution_count": 28,
   "metadata": {},
   "outputs": [],
   "source": [
    "# Open the URL to be tested\n",
    "url = \"https://www.gsmarena.com.bd/walton-orbit-y20/\"\n",
    "driver.get(url)\n"
   ]
  },
  {
   "cell_type": "code",
   "execution_count": 29,
   "metadata": {},
   "outputs": [],
   "source": [
    "csv_file_path = \"F:/1 Uni\\Masters/1st Sem/CSPA/Automation/Results/result.csv\"\n",
    "current_datetime = time.strftime(\"%Y-%m-%d %H:%M:%S\")\n",
    "\n",
    "# Create a CSV file to store the results\n",
    "with open(csv_file_path, mode='a', newline='') as file:\n",
    "    writer = csv.writer(file)\n",
    "    file.seek(0)\n",
    "    first_char = file.read(1) if file.readable() else None\n",
    "    if not first_char:\n",
    "        writer.writerow(['Date and Time', 'Page URL', 'Load Time (ms)'])\n",
    "\n",
    "    #writer.writerow(['Page URL', 'Load Time (ms)'])\n",
    "\n",
    "    # Loop through 10 iterations\n",
    "    for i in range(5):\n",
    "        # Get the current URL\n",
    "        current_url = driver.current_url\n",
    "        \n",
    "        # Measure the page load time\n",
    "        load_time = driver.execute_script(\"return (window.performance.timing.loadEventEnd - window.performance.timing.navigationStart);\")\n",
    "\n",
    "        # Write the results to the CSV file\n",
    "        writer.writerow([current_datetime, current_url, load_time])\n",
    "\n",
    "        # Load the next URL to be tested\n",
    "        driver.get(url)"
   ]
  },
  {
   "cell_type": "code",
   "execution_count": 30,
   "metadata": {},
   "outputs": [],
   "source": [
    "# Close the browser\n",
    "driver.quit()"
   ]
  },
  {
   "cell_type": "code",
   "execution_count": null,
   "metadata": {},
   "outputs": [],
   "source": []
  }
 ],
 "metadata": {
  "kernelspec": {
   "display_name": "Python 3",
   "language": "python",
   "name": "python3"
  },
  "language_info": {
   "codemirror_mode": {
    "name": "ipython",
    "version": 3
   },
   "file_extension": ".py",
   "mimetype": "text/x-python",
   "name": "python",
   "nbconvert_exporter": "python",
   "pygments_lexer": "ipython3",
   "version": "3.10.10"
  },
  "orig_nbformat": 4
 },
 "nbformat": 4,
 "nbformat_minor": 2
}
